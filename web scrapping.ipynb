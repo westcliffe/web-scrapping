{
 "cells": [
  {
   "cell_type": "code",
   "execution_count": 114,
   "metadata": {},
   "outputs": [],
   "source": [
    "from bs4 import BeautifulSoup as soup\n",
    "from urllib.request import urlopen as uReq\n",
    "import requests"
   ]
  },
  {
   "cell_type": "code",
   "execution_count": 3,
   "metadata": {},
   "outputs": [],
   "source": [
    "my_url='https://www.newegg.com/Video-Cards-Video-Devices/Category/ID-38'"
   ]
  },
  {
   "cell_type": "code",
   "execution_count": 4,
   "metadata": {},
   "outputs": [
    {
     "data": {
      "text/plain": [
       "'https://www.newegg.com/Video-Cards-Video-Devices/Category/ID-38'"
      ]
     },
     "execution_count": 4,
     "metadata": {},
     "output_type": "execute_result"
    }
   ],
   "source": [
    "my_url"
   ]
  },
  {
   "cell_type": "code",
   "execution_count": 6,
   "metadata": {},
   "outputs": [
    {
     "data": {
      "text/plain": [
       "<bound method HTTPResponse.close of <http.client.HTTPResponse object at 0x10de8fa90>>"
      ]
     },
     "execution_count": 6,
     "metadata": {},
     "output_type": "execute_result"
    }
   ],
   "source": [
    "uClient=uReq(my_url)\n",
    "page_html=uClient.read()\n",
    "uClient.close"
   ]
  },
  {
   "cell_type": "code",
   "execution_count": 7,
   "metadata": {},
   "outputs": [],
   "source": [
    "page_soup=soup(page_html, \"html.parser\")"
   ]
  },
  {
   "cell_type": "code",
   "execution_count": 28,
   "metadata": {},
   "outputs": [],
   "source": [
    "containers=page_soup.findAll(\"div\",{\"class\":\"item-container\"})"
   ]
  },
  {
   "cell_type": "code",
   "execution_count": 48,
   "metadata": {},
   "outputs": [
    {
     "data": {
      "text/plain": [
       "7"
      ]
     },
     "execution_count": 48,
     "metadata": {},
     "output_type": "execute_result"
    }
   ],
   "source": [
    "filename = 'product.csv'\n",
    "f=open(filename,'w')\n",
    "headers=\"brand,product_name,shipping\\n\"\n",
    "f.write(\"headers\")\n"
   ]
  },
  {
   "cell_type": "code",
   "execution_count": 70,
   "metadata": {},
   "outputs": [
    {
     "name": "stdout",
     "output_type": "stream",
     "text": [
      "brand: ASUS Dual GeForce RTX 2080 Ti DirectX 12 DUAL-RTX2080TI-O11G 11GB 352-Bit GDDR6 PCI Express 3.0 HDCP Ready SLI Support Video Card\n",
      "product_name:ASUS Dual GeForce RTX 2080 Ti DirectX 12 DUAL-RTX2080TI-O11G Video Card\n",
      "shipping:Free Shipping\n",
      "brand: GIGABYTE GeForce RTX 2070 Super WINDFORCE OC 3X 8G Graphics Card, 3 x WINDFORCE Fans, 8GB 256-Bit GDDR6, GV-N207SWF3OC-8GD Video Card\n",
      "product_name:GIGABYTE GeForce RTX 2070 Super WINDFORCE OC 3X 8G Graphics Card, GV-N207SWF3OC-8GD\n",
      "shipping:Free Shipping\n",
      "brand: EVGA GeForce RTX 2080 SUPER XC GAMING Video Card, 08G-P4-3182-KR, 8GB GDDR6, RGB LED, Metal Backplate\n",
      "product_name:EVGA GeForce RTX 2080 SUPER XC GAMING Video Card, 08G-P4-3182-KR, 8GB GDDR6\n",
      "shipping:$3.99 Shipping\n",
      "brand: MSI GeForce RTX 2060 DirectX 12 RTX 2060 VENTUS XS 6G OC 6GB 192-Bit GDDR6 PCI Express 3.0 x16 HDCP Ready Video Card\n",
      "product_name:MSI GeForce RTX 2060 DirectX 12 RTX 2060 VENTUS XS 6G OC Video Card\n",
      "shipping:Free Shipping\n",
      "brand: ASUS TUF Gaming GeForce RTX 2060 OC Edition 6GB GDDR6 VR Ready HDMI 2.0b DP 1.4 Auto Extreme Graphics Card (TUF-RTX2060-O6G-GAMING)\n",
      "product_name:ASUS TUF Gaming GeForce RTX 2060 OC Edition 6GB GDDR6 VR Ready HDMI 2.0b DP 1.4 Auto Extreme Graphics Card (TUF-RTX2060-O6G-GAMING)\n",
      "shipping:Free Shipping\n",
      "brand: XFX Radeon VII DirectX 12 RX-VEGMA3FD6 16GB 4096-Bit HBM2 PCI Express 3.0 CrossFireX Support Video Card\n",
      "product_name:XFX Radeon VII DirectX 12 RX-VEGMA3FD6 Video Card\n",
      "shipping:Free Shipping\n",
      "brand: MSI Radeon RX 5700 DirectX 12 RX 5700 EVOKE OC 8GB 256-Bit GDDR6 PCI Express 4.0 HDCP Ready CrossFireX Support Video Card\n",
      "product_name:MSI Radeon RX 5700 DirectX 12 RX 5700 EVOKE OC Video Card\n",
      "shipping:Free Shipping\n",
      "brand: GIGABYTE Radeon RX 570 DirectX 12 GV-RX570GAMING-4GD REV2.0 4GB 256-Bit GDDR5 PCI Express 3.0 x16 ATX Video Card\n",
      "product_name:GIGABYTE Radeon RX 570 DirectX 12 GV-RX570GAMING-4GD REV2.0 Video Card\n",
      "shipping:Free Shipping\n",
      "brand: XFX Radeon RX 5700 XT THICC II RX-57XT826D6 8GB 256-Bit GDDR6 PCI Express 4.0 Video Card\n",
      "product_name:XFX Radeon RX 5700 XT THICC II RX-57XT826D6 8GB 256-Bit GDDR6 PCI Express 4.0 Video Card\n",
      "shipping:Free Shipping\n",
      "brand: SAPPHIRE PULSE Radeon RX 5700 XT 100416P8GL 8GB 256-Bit GDDR6 PCI Express 4.0 x16 ATX Video Card\n",
      "product_name:SAPPHIRE PULSE Radeon RX 5700 XT 100416P8GL Video Card\n",
      "shipping:$3.99 Shipping\n",
      "brand: ASRock Challenger D Radeon RX 5600 XT DirectX 12 RX5600XT CLD 6GO 6GB 192-Bit GDDR6 PCI Express 4.0 x16 HDCP Ready Video Card\n",
      "product_name:ASRock Challenger D Radeon RX 5600 XT DirectX 12 RX5600XT CLD 6GO Video Card\n",
      "shipping:$3.99 Shipping\n",
      "brand: EVGA GeForce RTX 2080 Ti XC HYBRID GAMING, 11G-P4-2384-KR, 11GB GDDR6, HYBRID, RGB LED Logo, Metal Backplate\n",
      "product_name:EVGA GeForce RTX 2080 Ti XC HYBRID GAMING, 11G-P4-2384-KR, 11GB GDDR6, HYBRID, RGB LED Logo, Metal Backplate\n",
      "shipping:Free Shipping\n"
     ]
    }
   ],
   "source": [
    "for container in containers:\n",
    "    brand=container.a.img[\"title\"]\n",
    "    \n",
    "    title_container=container.findAll(\"a\",{\"class\": \"item-title\"})\n",
    "    product_name=title_container[0].text\n",
    "    \n",
    "    shipping_container=container.findAll('li',{\"class\":\"price-ship\"})\n",
    "    shipping=shipping_container[0].text.strip()\n",
    "    \n",
    "    print('brand: ' + brand )\n",
    "    print('product_name:' + product_name )\n",
    "    print('shipping:' + shipping)\n",
    "    \n",
    "    \n",
    "    f.write( brand + ',' + product_name.replace(\",\",\"|\") + shipping + \"\\n\" )\n",
    "\n",
    "f.close()"
   ]
  },
  {
   "cell_type": "code",
   "execution_count": 152,
   "metadata": {},
   "outputs": [],
   "source": [
    "container=containers[0]\n",
    "# container\n"
   ]
  },
  {
   "cell_type": "code",
   "execution_count": 108,
   "metadata": {},
   "outputs": [],
   "source": [
    "#container.a.img[\"title\"]\n",
    "brand_container=container.findAll(\"a\",{\"class\": \"item-branding\"})\n"
   ]
  },
  {
   "cell_type": "code",
   "execution_count": 113,
   "metadata": {},
   "outputs": [],
   "source": [
    "container.div.div"
   ]
  },
  {
   "cell_type": "markdown",
   "metadata": {},
   "source": [
    "## Python Tutorial: Web Scrapping with BeautifulSoup and Requests"
   ]
  },
  {
   "cell_type": "code",
   "execution_count": 156,
   "metadata": {},
   "outputs": [],
   "source": [
    "from bs4 import BeautifulSoup\n",
    "import requests\n",
    "import csv"
   ]
  },
  {
   "cell_type": "code",
   "execution_count": 122,
   "metadata": {},
   "outputs": [],
   "source": [
    "source=requests.get('https://coreyms.com/').text\n",
    "\n",
    "soup=BeautifulSoup(source,\"html.parser\")#\"html.parser\"  'lxml'\n",
    "\n"
   ]
  },
  {
   "cell_type": "code",
   "execution_count": 157,
   "metadata": {},
   "outputs": [],
   "source": [
    "csv_file=open('cms_scrape.csv','w')\n"
   ]
  },
  {
   "cell_type": "code",
   "execution_count": 158,
   "metadata": {},
   "outputs": [
    {
     "data": {
      "text/plain": [
       "29"
      ]
     },
     "execution_count": 158,
     "metadata": {},
     "output_type": "execute_result"
    }
   ],
   "source": [
    "csv_writer=csv.writer(csv_file)\n",
    "csv_writer.writerow(['headline','summary','video_link'])"
   ]
  },
  {
   "cell_type": "code",
   "execution_count": 135,
   "metadata": {},
   "outputs": [],
   "source": [
    "# print(soup.prettify())"
   ]
  },
  {
   "cell_type": "code",
   "execution_count": 160,
   "metadata": {},
   "outputs": [
    {
     "name": "stdout",
     "output_type": "stream",
     "text": [
      "Python Tutorial: Zip Files – Creating and Extracting Zip Archives\n",
      "In this video, we will be learning how to create and extract zip archives. We will start by using the zipfile module, and then we will see how to do this using the shutil module. We will learn how to do this with single files and directories, as well as learning how to use gzip as well. Let’s get started…\n",
      "https://youtube.com/watch?v=z0gguhEmWiY\n",
      "\n",
      "Python Data Science Tutorial: Analyzing the 2019 Stack Overflow Developer Survey\n",
      "In this Python Programming video, we will be learning how to download and analyze real-world data from the 2019 Stack Overflow Developer Survey. This is terrific practice for anyone getting into the data science field. We will learn different ways to analyze this data and also some best practices. Let’s get started…\n",
      "https://youtube.com/watch?v=_P7X8tMplsw\n",
      "\n",
      "Python Multiprocessing Tutorial: Run Code in Parallel Using the Multiprocessing Module\n",
      "In this Python Programming video, we will be learning how to run code in parallel using the multiprocessing module. We will also look at how to process multiple high-resolution images at the same time using a ProcessPoolExecutor from the concurrent.futures module. Let’s get started…\n",
      "https://youtube.com/watch?v=fKl2JW_qrso\n",
      "\n",
      "Python Threading Tutorial: Run Code Concurrently Using the Threading Module\n",
      "In this Python Programming video, we will be learning how to run threads concurrently using the threading module. We will also look at how to download multiple high-resolution images online using a ThreadPoolExecutor from the concurrent.futures module. Let’s get started…\n",
      "https://youtube.com/watch?v=IEEhzQoKtQU\n",
      "\n",
      "Update (2019-09-03)\n",
      "Hey everyone. I wanted to give you an update on my videos. I will be releasing videos on threading and multiprocessing within the next week. Thanks so much for your patience. I currently have a temporary recording studio setup at my Airbnb that will allow me to record and edit the threading/multiprocessing videos. I am going to be moving into my new house in 10 days and once I have my recording studio setup then you can expect much faster video releases. I really appreciate how patient everyone has been while I go through this move, especially those of you who are contributing monthly through YouTube \n",
      "None\n",
      "\n",
      "Python Quick Tip: The Difference Between “==” and “is” (Equality vs Identity)\n",
      "In this Python Programming Tutorial, we will be learning the difference between using “==” and the “is” keyword when doing comparisons. The difference between these is that “==” checks to see if values are equal, and the “is” keyword checks their identity, which means it’s going to check if the values are identical in terms of being the same object in memory. We’ll learn more in the video. Let’s get started…\n",
      "https://youtube.com/watch?v=mO_dS3rXDIs\n",
      "\n",
      "Python Tutorial: Calling External Commands Using the Subprocess Module\n",
      "In this Python Programming Tutorial, we will be learning how to run external commands using the subprocess module from the standard library. We will learn how to run commands, capture the output, handle errors, and also how to pipe output into other commands. Let’s get started…\n",
      "https://youtube.com/watch?v=2Fp1N6dof0Y\n",
      "\n",
      "Visual Studio Code (Windows) – Setting up a Python Development Environment and Complete Overview\n",
      "In this Python Programming Tutorial, we will be learning how to set up a Python development environment in VSCode on Windows. VSCode is a very nice free editor for writing Python applications and many developers are now switching over to this editor. In this video, we will learn how to install VSCode, get the Python extension installed, how to change Python interpreters, create virtual environments, format/lint our code, how to use Git within VSCode, how to debug our programs, how unit testing works, and more. We have a lot to cover, so let’s go ahead and get started…\n",
      "https://youtube.com/watch?v=-nh9rCzPJ20\n",
      "\n",
      "Visual Studio Code (Mac) – Setting up a Python Development Environment and Complete Overview\n",
      "In this Python Programming Tutorial, we will be learning how to set up a Python development environment in VSCode on MacOS. VSCode is a very nice free editor for writing Python applications and many developers are now switching over to this editor. In this video, we will learn how to install VSCode, get the Python extension installed, how to change Python interpreters, create virtual environments, format/lint our code, how to use Git within VSCode, how to debug our programs, how unit testing works, and more. We have a lot to cover, so let’s go ahead and get started…\n",
      "https://youtube.com/watch?v=06I63_p-2A4\n",
      "\n",
      "Clarifying the Issues with Mutable Default Arguments\n",
      "In this Python Programming Tutorial, we will be clarifying the issues with mutable default arguments. We discussed this in my last video titled “5 Common Python Mistakes and How to Fix Them”, but I received many comments from people who were still confused. So we will be doing a deeper dive to explain exactly what is going on here. Let’s get started…\n",
      "https://youtube.com/watch?v=_JGmemuINww\n",
      "\n"
     ]
    }
   ],
   "source": [
    "for article in soup.find_all('article'):\n",
    "    headline=article.a.text\n",
    "    print(headline)\n",
    "    \n",
    "    summary=article.find('div',class_=\"entry-content\").p.text\n",
    "    print(summary)\n",
    "    \n",
    "    try:\n",
    "        vid_src=article.find('iframe', class_=\"youtube-player\")['src']\n",
    "        vid_id=vid_src.split('/')[4].split('?')[0]\n",
    "        yt_link=f'https://youtube.com/watch?v={vid_id}'\n",
    "       \n",
    "    except Exception as e:\n",
    "        yt_link=None\n",
    "        \n",
    "    print(yt_link)\n",
    "    \n",
    "    print()\n",
    "    \n",
    "    csv_writer.writerow([headline,summary, yt_link])\n",
    "\n",
    "csv_file.close()\n",
    "    "
   ]
  },
  {
   "cell_type": "code",
   "execution_count": 151,
   "metadata": {},
   "outputs": [],
   "source": [
    "#  print(article.prettify())"
   ]
  },
  {
   "cell_type": "code",
   "execution_count": 133,
   "metadata": {},
   "outputs": [
    {
     "name": "stdout",
     "output_type": "stream",
     "text": [
      "Python Tutorial: Zip Files – Creating and Extracting Zip Archives\n"
     ]
    }
   ],
   "source": [
    "headline=article.a.text\n",
    "print(headline)"
   ]
  },
  {
   "cell_type": "code",
   "execution_count": 141,
   "metadata": {},
   "outputs": [
    {
     "name": "stdout",
     "output_type": "stream",
     "text": [
      "In this video, we will be learning how to create and extract zip archives. We will start by using the zipfile module, and then we will see how to do this using the shutil module. We will learn how to do this with single files and directories, as well as learning how to use gzip as well. Let’s get started…\n"
     ]
    }
   ],
   "source": [
    "summary=article.find('div',class_=\"entry-content\").p.text\n",
    "print(summary)"
   ]
  },
  {
   "cell_type": "code",
   "execution_count": 144,
   "metadata": {},
   "outputs": [
    {
     "name": "stdout",
     "output_type": "stream",
     "text": [
      "https://www.youtube.com/embed/z0gguhEmWiY?version=3&rel=1&fs=1&autohide=2&showsearch=0&showinfo=1&iv_load_policy=1&wmode=transparent\n"
     ]
    }
   ],
   "source": [
    "vid_src=article.find('iframe', class_=\"youtube-player\")['src']\n",
    "print(vid_src)"
   ]
  },
  {
   "cell_type": "code",
   "execution_count": 149,
   "metadata": {},
   "outputs": [
    {
     "name": "stdout",
     "output_type": "stream",
     "text": [
      "z0gguhEmWiY\n"
     ]
    }
   ],
   "source": [
    "vid_id=vid_src.split('/')[4].split('?')[0]\n",
    "print(vid_id)"
   ]
  },
  {
   "cell_type": "code",
   "execution_count": 150,
   "metadata": {},
   "outputs": [
    {
     "name": "stdout",
     "output_type": "stream",
     "text": [
      "https://youtube.com/watch?v=z0gguhEmWiY\n"
     ]
    }
   ],
   "source": [
    "yt_link=f'https://youtube.com/watch?v={vid_id}'\n",
    "print(yt_link)"
   ]
  },
  {
   "cell_type": "code",
   "execution_count": null,
   "metadata": {},
   "outputs": [],
   "source": []
  }
 ],
 "metadata": {
  "kernelspec": {
   "display_name": "Python 3",
   "language": "python",
   "name": "python3"
  },
  "language_info": {
   "codemirror_mode": {
    "name": "ipython",
    "version": 3
   },
   "file_extension": ".py",
   "mimetype": "text/x-python",
   "name": "python",
   "nbconvert_exporter": "python",
   "pygments_lexer": "ipython3",
   "version": "3.7.6"
  }
 },
 "nbformat": 4,
 "nbformat_minor": 4
}
