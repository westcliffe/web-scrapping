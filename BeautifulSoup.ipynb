{
 "cells": [
  {
   "cell_type": "code",
   "execution_count": 1,
   "metadata": {},
   "outputs": [],
   "source": [
    "from bs4 import BeautifulSoup\n",
    "import requests\n",
    "import csv"
   ]
  },
  {
   "cell_type": "code",
   "execution_count": 61,
   "metadata": {},
   "outputs": [],
   "source": [
    "source=requests.get('https://www.prnewswire.com/search/news/?keyword=Truist&pagesize=25&page=1').text\n",
    "\n",
    "soup=BeautifulSoup(source,\"html.parser\")#\"html.parser\"  'lxml'\n"
   ]
  },
  {
   "cell_type": "code",
   "execution_count": 63,
   "metadata": {},
   "outputs": [],
   "source": [
    "#  print(soup.prettify())"
   ]
  },
  {
   "cell_type": "code",
   "execution_count": 64,
   "metadata": {},
   "outputs": [],
   "source": [
    "#article=soup.find('section', class_=\"container search-results-text\")\n",
    "article=soup.find('div', class_ = \"col-sm-12 card\")"
   ]
  },
  {
   "cell_type": "code",
   "execution_count": 57,
   "metadata": {},
   "outputs": [],
   "source": [
    "#  print(article.prettify())"
   ]
  },
  {
   "cell_type": "code",
   "execution_count": 65,
   "metadata": {},
   "outputs": [
    {
     "data": {
      "text/plain": [
       "27"
      ]
     },
     "execution_count": 65,
     "metadata": {},
     "output_type": "execute_result"
    }
   ],
   "source": [
    "csv_file=csv_file=open('prnews_scrape.csv','w')\n",
    "csv_writer=csv.writer(csv_file)\n",
    "csv_writer.writerow(['DateTime','headline','summary'])"
   ]
  },
  {
   "cell_type": "code",
   "execution_count": 67,
   "metadata": {},
   "outputs": [
    {
     "name": "stdout",
     "output_type": "stream",
     "text": [
      "Mar 19, 2020, 12:54 ET\n",
      "\n",
      "Truist Adapts Branch Banking Approach to Care for Clients and Teammates\n",
      "only.\n",
      "The combination of the heritage BB&T now Truist and SunTrust now Truist branch networks provides clients with access to more than 2,800 branches and more than 5,000 ATMs. As part of one of the most-accessible branch networks within Truist markets, about 85% of those branches offer a convenient\n",
      "\n",
      "Mar 18, 2020, 17:08 ET\n",
      "\n",
      "Truist commits $250,000 to Atlanta Braves' Relief Fund\n",
      "www.braves.com/truistpark.\n",
      "About Truist\n",
      "Truist Financial Corporation is a purpose-driven financial services company committed to inspire and build better lives and communities. With 275 years of combined BB&T and SunTrust history, Truist serves approximately 10 million households\n",
      "\n",
      "Mar 17, 2020, 08:00 ET\n",
      "\n",
      "Truist announces COVID-19 relief measures for communities, clients and teammates\n",
      "Truist.com.\n",
      "About TruistTruist Financial Corporation is a purpose-driven financial services company committed to inspire and build better lives and communities. With 275 years of combined BB&T and SunTrust history, Truist serves approximately 10 million households\n",
      "\n",
      "Mar 16, 2020, 12:36 ET\n",
      "\n",
      "Truist Lowers Prime Rate\n",
      "March 16, 2020 /PRNewswire/ -- Truist Financial Corporation (NYSE: TFC) today announced it is decreasing its prime lending rate to 3.25 percent from 4.25 percent, effective immediately.\n",
      "About Truist\n",
      "Truist Financial Corporation is a purpose-driven financial\n",
      "\n",
      "Mar 11, 2020, 09:00 ET\n",
      "\n",
      "Truist Foundation Awards $775,000 Grant to Junior Achievement of Central Maryland\n",
      "only secure employment at a higher rate than their peers, but they also earn 20% more in salary.\n",
      "About Truist Foundation The Truist Foundation is committed to Truist Financial Corporation's (NYSE: TFC) purpose to inspire and build better lives and communities. Established in 2020,\n",
      "\n",
      "Mar 06, 2020, 10:58 ET\n",
      "\n",
      "Truist to Donate $225,000 for Disaster Relief in Middle Tennessee\n",
      "Christian Corts.\n",
      "About Truist Truist Financial Corporation is a purpose-driven financial services company committed to inspire and build better lives and communities. With 275 years of combined BB&T and SunTrust history, Truist serves approximately 10 million households\n",
      "\n",
      "Mar 05, 2020, 16:05 ET\n",
      "\n",
      "Suburban Propane Partners, L.P. Announces Refinancing of Revolving Credit Facility\n",
      "Securities, LLC, BNP Paribas, Capital One, Citizens Bank, HSBC Bank USA, JP Morgan Chase Bank, N.A., TD Bank, N.A., and Truist Bank, as Joint Lead Arrangers, Joint Book Runners and Co-Syndication Agents, Citibank, N.A as a Joint Lead Arranger and Documentation Agent, CoBank,\n",
      "\n",
      "Feb 21, 2020, 11:09 ET\n",
      "\n",
      "Truist to Speak at the Credit Suisse Financial Services Forum\n",
      "website for 30 days.\n",
      "About TruistTruist Financial Corporation is a purpose-driven financial services company committed to inspire and build better lives and communities. With 275 years of combined BB&T and SunTrust history, Truist serves approximately 10 million households\n",
      "\n",
      "Feb 19, 2020, 09:15 ET\n",
      "\n",
      "The 40-Year-Old Millennial: Focused on Debt Repayment, Travel and Retirement\n",
      "Resource Center.\n",
      "About TruistTruist Financial Corporation (NYSE: TFC) is a purpose-driven financial services company committed to inspire and build better lives and communities. With 275 years of combined BB&T and SunTrust history, Truist serves approximately 10 million\n",
      "\n",
      "Feb 06, 2020, 11:52 ET\n",
      "\n",
      "Diverse Cyclists to Participate in 7th Annual Tour Latino\n",
      "Health, Zaza New Cuban Diner, Orlando Health, OUC - The Reliable One, Walt Disney Parks & Resorts, Rosen Hotels, Truist, Orange Cycle, CNL, Univision Orlando, 98.1 Salsa y Más, La Prensa, El Osceola Star, and more.\n",
      "Prospera is an economic development, nonprofit\n",
      "\n",
      "Jan 31, 2020, 20:14 ET\n",
      "\n",
      "Truist riporta i risultati del quarto trimestre 2019\n",
      "rischi relativi al ruolo di Truist come gestore di prestiti, come un aumento nella portata o nei costi dei servizi che Truist è chiamata ad adempiere senza alcun corrispondente aumento nella commissione di servizio di Truist, o una violazione degli obblighi di Truist come gestore; =   opinione\n",
      "\n",
      "Jan 31, 2020, 07:52 ET\n",
      "\n",
      "Truist maakt resultaten over vierde kwartaal 2019 bekend\n",
      "Over TruistTruist Financial Corporation is een doelgedreven bedrijf op het gebied van financiële dienstverlening dat is toegewijd aan inspireren en het bouwen van betere levens en samenlevingen. Met een door BB&T en SunTrust gedeelde geschiedenis van 275 jaar, bedient Truist ongeveer\n",
      "\n",
      "Jan 31, 2020, 02:00 ET\n",
      "\n",
      "Truist meldet Ergebnisse für das vierte Quartal 2019\n",
      "Kosten der Dienstleistungen, die Truist ohne eine entsprechende Erhöhung der Abwicklungsgebühr von Truist erbringen muss, oder eine Verletzung der Verpflichtungen von Truist als Forderungsverwalter;  = negative öffentliche Meinung, die dem Ruf von Truist schaden könnte; eine\n",
      "\n"
     ]
    }
   ],
   "source": [
    "for article in soup.find_all('div', class_ = \"col-sm-12 card\"):\n",
    "    \n",
    "    DateTime=article.small.text\n",
    "    print(DateTime)\n",
    "    \n",
    "    headline=article.a.text\n",
    "    print(headline)\n",
    "    \n",
    "    summary=article.p.text\n",
    "    print(summary)\n",
    "    \n",
    "    print()\n",
    "    csv_writer.writerow([DateTime,headline, summary])\n",
    "\n",
    "csv_file.close()\n",
    "    "
   ]
  },
  {
   "cell_type": "code",
   "execution_count": 55,
   "metadata": {},
   "outputs": [
    {
     "name": "stdout",
     "output_type": "stream",
     "text": [
      " Truist Adapts Branch Banking Approach to Care for Clients and Teammates\n"
     ]
    }
   ],
   "source": [
    "# headline=article.a.text\n",
    "# print(headline)"
   ]
  },
  {
   "cell_type": "code",
   "execution_count": 56,
   "metadata": {},
   "outputs": [
    {
     "name": "stdout",
     "output_type": "stream",
     "text": [
      "Mar 19, 2020, 12:54 ET\n"
     ]
    }
   ],
   "source": [
    "# DateTime=article.small.text\n",
    "# print(DateTime)"
   ]
  },
  {
   "cell_type": "code",
   "execution_count": 32,
   "metadata": {},
   "outputs": [],
   "source": [
    "# summary=article.p.text\n",
    "# print(summary)"
   ]
  }
 ],
 "metadata": {
  "kernelspec": {
   "display_name": "Python 3",
   "language": "python",
   "name": "python3"
  },
  "language_info": {
   "codemirror_mode": {
    "name": "ipython",
    "version": 3
   },
   "file_extension": ".py",
   "mimetype": "text/x-python",
   "name": "python",
   "nbconvert_exporter": "python",
   "pygments_lexer": "ipython3",
   "version": "3.7.6"
  }
 },
 "nbformat": 4,
 "nbformat_minor": 4
}
