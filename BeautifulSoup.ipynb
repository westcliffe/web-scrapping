{
 "cells": [
  {
   "cell_type": "code",
   "execution_count": 272,
   "metadata": {},
   "outputs": [],
   "source": [
    "from bs4 import BeautifulSoup\n",
    "import requests\n",
    "import csv\n",
    "import lxml\n",
    "import pandas as pd\n",
    "import pickle\n",
    "import re"
   ]
  },
  {
   "cell_type": "code",
   "execution_count": 229,
   "metadata": {},
   "outputs": [],
   "source": [
    "source=requests.get('https://www.prnewswire.com/search/news/?keyword=Truist&page=1&pagesize=100').text\n",
    "#source=requests.get('https://www.prnewswire.com/search/all/?keyword=Truist').text\n",
    "soup=BeautifulSoup(source,'lxml')  #\"html.parser\"  'lxml'\n"
   ]
  },
  {
   "cell_type": "code",
   "execution_count": 63,
   "metadata": {},
   "outputs": [],
   "source": [
    "#  print(soup.prettify())"
   ]
  },
  {
   "cell_type": "code",
   "execution_count": 148,
   "metadata": {},
   "outputs": [],
   "source": [
    "#article=soup.find('section', class_=\"container search-results-text\")\n",
    "# article=soup.find('div', class_ = \"col-sm-12 card\")"
   ]
  },
  {
   "cell_type": "code",
   "execution_count": 57,
   "metadata": {},
   "outputs": [],
   "source": [
    "#  print(article.prettify())"
   ]
  },
  {
   "cell_type": "code",
   "execution_count": null,
   "metadata": {},
   "outputs": [],
   "source": [
    "# [DateTime,headline, webpage,summary, whole]"
   ]
  },
  {
   "cell_type": "code",
   "execution_count": 248,
   "metadata": {},
   "outputs": [
    {
     "data": {
      "text/plain": [
       "33"
      ]
     },
     "execution_count": 248,
     "metadata": {},
     "output_type": "execute_result"
    }
   ],
   "source": [
    "csv_file=open('prnews_scrape.csv','w')\n",
    "csv_writer=csv.writer(csv_file)\n",
    "csv_writer.writerow(['DateTime','headline','summary','whole'])"
   ]
  },
  {
   "cell_type": "code",
   "execution_count": 212,
   "metadata": {},
   "outputs": [],
   "source": [
    "#  soup.find_all('div', {'class':[  \"col-sm-12 card\", \"col-sm-8 col-lg-9 pull-left card\"]})"
   ]
  },
  {
   "cell_type": "code",
   "execution_count": 279,
   "metadata": {},
   "outputs": [],
   "source": [
    "# create a empty list of variable\n",
    "DateTime=[]\n",
    "headline=[]\n",
    "summary =[]\n",
    "webpage=[]\n",
    "whole=[]"
   ]
  },
  {
   "cell_type": "code",
   "execution_count": 280,
   "metadata": {},
   "outputs": [],
   "source": [
    "for article in soup.find_all('div', {'class':[  \"col-sm-12 card\", \"col-sm-8 col-lg-9 pull-left card\"]}):\n",
    "    \n",
    "    DateTime.append(article.small.text)\n",
    "\n",
    "    \n",
    "    headline.append(article.a.text)\n",
    "\n",
    "    \n",
    "    webpage.append(str('https://www.prnewswire.com' + article.a['href']))\n",
    "#     webpage2=str('https://www.prnewswire.com' + article.a['href'])\n",
    "    \n",
    "    summary.append(article.p.text)\n",
    "\n",
    "    \n",
    "    for tags in BeautifulSoup(requests.get(str('https://www.prnewswire.com' + article.a['href'])).\n",
    "                              text,'lxml').find('section',class_='release-body container').find_all('p'):\n",
    "        whole.append(tags.get_text\n",
    "    "
   ]
  },
  {
   "cell_type": "code",
   "execution_count": 281,
   "metadata": {},
   "outputs": [
    {
     "data": {
      "text/plain": [
       "['\\nTruist Adapts Branch Banking Approach to Care for Clients and Teammates',\n",
       " \"\\nTruist commits $250,000 to Atlanta Braves' Relief Fund\",\n",
       " '\\nTruist announces COVID-19 relief measures for communities, clients and teammates',\n",
       " '\\nTruist Lowers Prime Rate',\n",
       " '\\nSimon Property Group Announces Amended and Extended $6.0 Billion Revolving Credit Facility and Term Loan',\n",
       " '\\nTruist Foundation Awards $775,000 Grant to Junior Achievement of Central Maryland',\n",
       " '\\nTruist to Donate $225,000 for Disaster Relief in Middle Tennessee',\n",
       " '\\nSuburban Propane Partners, L.P. Announces Refinancing of Revolving Credit Facility',\n",
       " '\\nInvoca Appoints Michael DiFilippo as Chief Financial Officer',\n",
       " '\\nTruist Updates Timing of First-Quarter 2020 Earnings Conference Call',\n",
       " '\\nTruist Lowers Prime Rate',\n",
       " '\\nTruist Foundation Launches to Inspire and Build Better Lives and Communities',\n",
       " '\\nTruist Donates $1 Million to National Museum of African American History and Culture',\n",
       " '\\nHome Renovations on the Rise: More Projects, Bigger Budgets in 2020',\n",
       " '\\nTruist to Present at the Raymond James Institutional Investors Conference',\n",
       " '\\nTruist to Speak at the RBC Capital Markets Global Financial Institutions Conference',\n",
       " '\\nAllison Dukes to join Invesco as Deputy Chief Financial Officer; Loren Starr to become Vice Chair on Aug. 1 and retire in March 2021',\n",
       " '\\nTruist to Speak at the Credit Suisse Financial Services Forum',\n",
       " '\\nThe 40-Year-Old Millennial: Focused on Debt Repayment, Travel and Retirement',\n",
       " '\\nTruist Announces Redemption of Series K Depositary Shares',\n",
       " '\\nDiverse Cyclists to Participate in 7th Annual Tour Latino',\n",
       " '\\nTruist riporta i risultati del quarto trimestre 2019',\n",
       " '\\nNational Development Council Announces $250,000 Grant for Kings Theatre and Flatbush Avenue Small Business Loan Fund',\n",
       " '\\nTruist maakt resultaten over vierde kwartaal 2019 bekend',\n",
       " '\\nTruist meldet Ergebnisse für das vierte Quartal 2019',\n",
       " '\\nTruist publie ses résultats du quatrième trimestre de 2019',\n",
       " '\\nTruist Reports Fourth Quarter 2019 Results',\n",
       " '\\nTruist Declares Quarterly Stock Dividends',\n",
       " '\\nBB&T and SunTrust Now Truist Receive Perfect Scores of 100 on the 2020 Corporate Equality Index (CEI)',\n",
       " '\\nSunTrust now Truist, the Official Bank of the Miami Super Bowl Host Committee, Hosts Second Annual Confidence Classic Event',\n",
       " '\\nHunt Capital Partners and Pennrose Launch Second Phase of Affordable Housing Redevelopment in Maryland',\n",
       " '\\nPrecept Rebrands as McGriff Insurance Services',\n",
       " '\\nTruist Bank Announces Redemption of Fixed-to-Floating Rate Senior Bank Notes due 2021',\n",
       " '\\nTruist and the Atlanta Braves Announce Truist Park as New Name of SunTrust Park',\n",
       " '\\nMake Way for Truist Purple',\n",
       " '\\nAmerican Finance Trust Provides 2019 Transactions Update',\n",
       " '\\nTruist Announces Fourth-Quarter 2019 Earnings Conference Call Details',\n",
       " '\\nSunTrust Foundation Now Truist Foundation Awards $1 Million Grant to edX to Help Launch MicroBachelors™ Programs',\n",
       " '\\nFairstead Announces Preservation and Rehabilitation of 905 Units of Affordable Housing in Manhattan and Brooklyn',\n",
       " '\\nBroad Street Realty, Inc. Continues With Previously Announced Merger Transactions',\n",
       " '\\nMiami Super Bowl Host Committee Announces Five New Official Partners',\n",
       " '\\nTruist Bank Announces Redemption of Senior Bank Notes',\n",
       " '\\nTruist Charlotte headquarters building to be renamed Truist Center',\n",
       " '\\nCousins Properties Announces Agreement To Sell Charlotte Office Tower To Truist Financial',\n",
       " '\\nTruist Announces Community Banking Regional Presidents',\n",
       " '\\nTruist Announces 2020 Earnings Conference Calls',\n",
       " '\\nTruist to Present at the Goldman Sachs U.S. Financial Services Conference',\n",
       " '\\nBB&T and SunTrust complete merger of equals to become Truist',\n",
       " '\\nOld Dominion Freight Line Set to Join S&P 500; Cabot Microelectronics to Join S&P MidCap 400; Ready Capital and Industrial Logistics Properties Trust to Join S&P SmallCap 600',\n",
       " '\\nBB&T and SunTrust receive regulatory approvals for merger of equals to form Truist',\n",
       " '\\nBB&T and SunTrust receive regulatory approvals for merger of equals to form Truist',\n",
       " '\\nSunTrust Declares Quarterly Dividend',\n",
       " '\\nBB&T rapporteert inkomsten van $735 miljoen of $0,95 per verwaterd aandeel',\n",
       " '\\nBB&T dichiara utili per 735 milioni di dollari, ovvero 0,95 dollari per azione diluita',\n",
       " '\\nBB&T gibt Unternehmensgewinn in Höhe von 735 Millionen US-Dollar bekannt; 0,95 US-Dollar pro verwässerter Stammaktie',\n",
       " '\\nBB&T déclare un bénéfice de 735 millions de dollars, soit 0,95 dollar par action diluée',\n",
       " '\\nSunTrust Reports Third Quarter 2019 Results',\n",
       " '\\nBB&T reports earnings of $735 million, or $0.95 per diluted share',\n",
       " '\\nLinnie Haynesworth appointed to SunTrust Board of Directors']"
      ]
     },
     "execution_count": 281,
     "metadata": {},
     "output_type": "execute_result"
    }
   ],
   "source": [
    "# webpage\n",
    "# headline2 = re.sub('\\A\\n', '', headline)\n",
    "headline"
   ]
  },
  {
   "cell_type": "code",
   "execution_count": 258,
   "metadata": {},
   "outputs": [],
   "source": [
    "def url_to_story(url):\n",
    "    page=requests.get(url).text\n",
    "    soup_2=BeautifulSoup(page, \"lxml\")\n",
    "    text=[p.text for p in soup_2.find('section',class_='release-body container').find_all('p')]\n",
    "    print(url)\n",
    "    return text"
   ]
  },
  {
   "cell_type": "code",
   "execution_count": 259,
   "metadata": {
    "scrolled": true
   },
   "outputs": [
    {
     "name": "stdout",
     "output_type": "stream",
     "text": [
      "https://www.prnewswire.com/news-releases/truist-adapts-branch-banking-approach-to-care-for-clients-and-teammates-301026990.html\n",
      "https://www.prnewswire.com/news-releases/truist-commits-250-000-to-atlanta-braves-relief-fund-301026466.html\n",
      "https://www.prnewswire.com/news-releases/truist-announces-covid-19-relief-measures-for-communities-clients-and-teammates-301025359.html\n",
      "https://www.prnewswire.com/news-releases/truist-lowers-prime-rate-301024933.html\n",
      "https://www.prnewswire.com/news-releases/simon-property-group-announces-amended-and-extended-6-0-billion-revolving-credit-facility-and-term-loan-301024771.html\n",
      "https://www.prnewswire.com/news-releases/truist-foundation-awards-775-000-grant-to-junior-achievement-of-central-maryland-301021492.html\n",
      "https://www.prnewswire.com/news-releases/truist-to-donate-225-000-for-disaster-relief-in-middle-tennessee-301019027.html\n",
      "https://www.prnewswire.com/news-releases/suburban-propane-partners-lp-announces-refinancing-of-revolving-credit-facility-301018582.html\n",
      "https://www.prnewswire.com/news-releases/invoca-appoints-michael-difilippo-as-chief-financial-officer-301017128.html\n",
      "https://www.prnewswire.com/news-releases/truist-updates-timing-of-first-quarter-2020-earnings-conference-call-301016498.html\n",
      "https://www.prnewswire.com/news-releases/truist-lowers-prime-rate-301015664.html\n",
      "https://www.prnewswire.com/news-releases/truist-foundation-launches-to-inspire-and-build-better-lives-and-communities-301013855.html\n",
      "https://www.prnewswire.com/news-releases/truist-donates-1-million-to-national-museum-of-african-american-history-and-culture-301011623.html\n",
      "https://www.prnewswire.com/news-releases/home-renovations-on-the-rise-more-projects-bigger-budgets-in-2020-301011466.html\n",
      "https://www.prnewswire.com/news-releases/truist-to-present-at-the-raymond-james-institutional-investors-conference-301011000.html\n",
      "https://www.prnewswire.com/news-releases/truist-to-speak-at-the-rbc-capital-markets-global-financial-institutions-conference-301010848.html\n",
      "https://www.prnewswire.com/news-releases/allison-dukes-to-join-invesco-as-deputy-chief-financial-officer-loren-starr-to-become-vice-chair-on-aug-1-and-retire-in-march-2021-301010104.html\n",
      "https://www.prnewswire.com/news-releases/truist-to-speak-at-the-credit-suisse-financial-services-forum-301009201.html\n",
      "https://www.prnewswire.com/news-releases/the-40-year-old-millennial-focused-on-debt-repayment-travel-and-retirement-301007468.html\n",
      "https://www.prnewswire.com/news-releases/truist-announces-redemption-of-series-k-depositary-shares-301002269.html\n",
      "https://www.prnewswire.com/news-releases/diverse-cyclists-to-participate-in-7th-annual-tour-latino-301000438.html\n",
      "https://www.prnewswire.com/news-releases/truist-riporta-i-risultati-del-quarto-trimestre-2019-841242739.html\n",
      "https://www.prnewswire.com/news-releases/national-development-council-announces-250-000-grant-for-kings-theatre-and-flatbush-avenue-small-business-loan-fund-300997141.html\n",
      "https://www.prnewswire.com/news-releases/truist-maakt-resultaten-over-vierde-kwartaal-2019-bekend-849962684.html\n",
      "https://www.prnewswire.com/news-releases/truist-meldet-ergebnisse-fur-das-vierte-quartal-2019-831226404.html\n",
      "https://www.prnewswire.com/news-releases/truist-publie-ses-resultats-du-quatrieme-trimestre-de-2019-825195105.html\n",
      "https://www.prnewswire.com/news-releases/truist-reports-fourth-quarter-2019-results-300995870.html\n",
      "https://www.prnewswire.com/news-releases/truist-declares-quarterly-stock-dividends-300994815.html\n",
      "https://www.prnewswire.com/news-releases/bbt-and-suntrust-now-truist-receive-perfect-scores-of-100-on-the-2020-corporate-equality-index-cei-300990480.html\n",
      "https://www.prnewswire.com/news-releases/suntrust-now-truist-the-official-bank-of-the-miami-super-bowl-host-committee-hosts-second-annual-confidence-classic-event-300990310.html\n",
      "https://www.prnewswire.com/news-releases/hunt-capital-partners-and-pennrose-launch-second-phase-of-affordable-housing-redevelopment-in-maryland-300989744.html\n",
      "https://www.prnewswire.com/news-releases/precept-rebrands-as-mcgriff-insurance-services-300987636.html\n",
      "https://www.prnewswire.com/news-releases/truist-bank-announces-redemption-of-fixed-to-floating-rate-senior-bank-notes-due-2021-300986919.html\n",
      "https://www.prnewswire.com/news-releases/truist-and-the-atlanta-braves-announce-truist-park-as-new-name-of-suntrust-park-300986823.html\n",
      "https://www.prnewswire.com/news-releases/make-way-for-truist-purple-300985392.html\n",
      "https://www.prnewswire.com/news-releases/american-finance-trust-provides-2019-transactions-update-300985287.html\n",
      "https://www.prnewswire.com/news-releases/truist-announces-fourth-quarter-2019-earnings-conference-call-details-300984684.html\n",
      "https://www.prnewswire.com/news-releases/suntrust-foundation-now-truist-foundation-awards-1-million-grant-to-edx-to-help-launch-microbachelors-programs-300983498.html\n",
      "https://www.prnewswire.com/news-releases/fairstead-announces-preservation-and-rehabilitation-of-905-units-of-affordable-housing-in-manhattan-and-brooklyn-300983564.html\n",
      "https://www.prnewswire.com/news-releases/broad-street-realty-inc-continues-with-previously-announced-merger-transactions-300983012.html\n",
      "https://www.prnewswire.com/news-releases/miami-super-bowl-host-committee-announces-five-new-official-partners-300978663.html\n",
      "https://www.prnewswire.com/news-releases/truist-bank-announces-redemption-of-senior-bank-notes-300974789.html\n",
      "https://www.prnewswire.com/news-releases/truist-charlotte-headquarters-building-to-be-renamed-truist-center-300972944.html\n",
      "https://www.prnewswire.com/news-releases/cousins-properties-announces-agreement-to-sell-charlotte-office-tower-to-truist-financial-300973119.html\n",
      "https://www.prnewswire.com/news-releases/truist-announces-community-banking-regional-presidents-300972363.html\n",
      "https://www.prnewswire.com/news-releases/truist-announces-2020-earnings-conference-calls-300971354.html\n",
      "https://www.prnewswire.com/news-releases/truist-to-present-at-the-goldman-sachs-us-financial-services-conference-300971353.html\n",
      "https://www.prnewswire.com/news-releases/bbt-and-suntrust-complete-merger-of-equals-to-become-truist-300971207.html\n",
      "https://www.prnewswire.com/news-releases/old-dominion-freight-line-set-to-join-sp-500-cabot-microelectronics-to-join-sp-midcap-400-ready-capital-and-industrial-logistics-properties-trust-to-join-sp-smallcap-600-300967749.html\n",
      "https://www.prnewswire.com/news-releases/bbt-and-suntrust-receive-regulatory-approvals-for-merger-of-equals-to-form-truist-300961369.html\n",
      "https://www.prnewswire.com/news-releases/bbt-and-suntrust-receive-regulatory-approvals-for-merger-of-equals-to-form-truist-300961372.html\n",
      "https://www.prnewswire.com/news-releases/suntrust-declares-quarterly-dividend-300946530.html\n",
      "https://www.prnewswire.com/news-releases/bb-amp-t-rapporteert-inkomsten-van-735-miljoen-of-0-95-per-verwaterd-aandeel-848001213.html\n",
      "https://www.prnewswire.com/news-releases/bb-amp-t-dichiara-utili-per-735-milioni-di-dollari-ovvero-0-95-dollari-per-azione-diluita-897875009.html\n",
      "https://www.prnewswire.com/news-releases/bb-amp-t-gibt-unternehmensgewinn-in-hohe-von-735-millionen-us-dollar-bekannt-0-95-us-dollar-pro-verwasserter-stammaktie-857243372.html\n",
      "https://www.prnewswire.com/news-releases/bb-amp-t-declare-un-benefice-de-735-millions-de-dollars-soit-0-95-dollar-par-action-diluee-864230675.html\n",
      "https://www.prnewswire.com/news-releases/suntrust-reports-third-quarter-2019-results-300940139.html\n",
      "https://www.prnewswire.com/news-releases/bbt-reports-earnings-of-735-million-or-0-95-per-diluted-share-300940105.html\n",
      "https://www.prnewswire.com/news-releases/linnie-haynesworth-appointed-to-suntrust-board-of-directors-300934979.html\n"
     ]
    }
   ],
   "source": [
    "stories=[url_to_story(u) for u in webpage]"
   ]
  },
  {
   "cell_type": "code",
   "execution_count": 265,
   "metadata": {},
   "outputs": [
    {
     "data": {
      "text/plain": [
       "[\"CHARLOTTE, N.C., March 18, 2020 /PRNewswire/ -- Truist Financial Corporation (NYSE: TFC) today announced it will be awarding a grant of $250,000 to the Atlanta Braves' Relief Fund to support the needs of hourly workers at Truist Park, CoolToday Park and each of the Minor League Baseball facilities operated by the Braves in response to the COVID-19 pandemic. This grant is in response to the Braves' $1 million commitment to support its baseball family during this time and is part of the Truist Cares initiative – the financial services company's $25 million pledge in philanthropic support that is aiding in supporting basic needs, medical supplies, and financial hardship across the nation. \",\n",
       " 'Together, Truist and the Atlanta Braves, through the Atlanta Braves Foundation, will support the special relief fund to help hourly gameday workers and some other affected members of the baseball community with special financial needs. ',\n",
       " '\"What matters most during these unprecedented times is how we can all come together to support our partners and communities,\" said Dontá Wilson, chief digital and client experience officer for Truist. \"Together with the Braves, we are committed to lending a hand to the gameday workers who help make our trips to the ballpark so special. Our purpose is to inspire and build better lives and communities, and we hope this effort inspires others to support workers who are affected by the pandemic.\" ',\n",
       " \"This grant to the Braves' relief fund will help provide relief assistance for hourly ballpark workers at Truist Park and each of the Minor League Baseball facilities operated by the Braves, including the Gwinnett Stripers, Mississippi Braves, Rome Braves and Danville Braves. The funds will also support the CoolToday Park staff impacted by postponed games and events. \",\n",
       " '\"As proud partners of the Atlanta Braves, our commitment goes far beyond putting the Truist name on a ballpark,\" said Northern Georgia Regional President Jenna Kelly. \"It is important now more than ever to show our support through our Truist Cares initiative and we hope to encourage all of Braves Country to join us.\"',\n",
       " 'Fans throughout Braves Country can donate to the relief fund by visiting www.braves.com/give.',\n",
       " '\"We are incredibly thankful for our partnership with Truist as we stand together to support our gameday staff in this time of need,\" said Derek Schiller, president and CEO of the Atlanta Braves. \"We have been moved by the outpouring of support from fans looking for ways to help out – it really shows how beloved our event staff is and the power of community within Braves Country.\"',\n",
       " 'Learn more about how Truist is helping at the Truist Coronavirus Information page, and for more information, visit www.Truist.com\\xa0and www.braves.com/truistpark. ',\n",
       " 'About Truist',\n",
       " 'Truist Financial Corporation is a purpose-driven financial services company committed to inspire and build better lives and communities. With 275 years of combined BB&T and SunTrust history, Truist serves approximately 10 million households with leading market share in many high-growth markets in the country. The company offers a wide range of services including retail, small business and commercial banking; asset management; capital markets; commercial real estate; corporate and institutional banking; insurance; mortgage; payments; specialized lending and wealth management. Headquartered in Charlotte, North Carolina, Truist is the sixth-largest commercial bank in the U.S. with total assets of $473 billion as of December 31, 2019. Truist Bank, Member FDIC. Learn more at Truist.com.',\n",
       " 'About Atlanta Braves',\n",
       " 'Based in Atlanta since 1966, the Braves are the longest continuously operating franchise in Major League Baseball. Since 1991, Braves teams have earned two National League wild cards, 17 division championships, five National League pennants, and a World Series title. Atlanta Braves games are telecast on FOX Sports South and FOX Sports Southeast. Radio broadcasts can be heard in Atlanta on 680 The Fan (AM), Rock 100.5 (FM) and regionally on the Atlanta Braves Radio Network. Follow the Braves at braves.com, facebook.com/braves, and twitter.com/braves. ',\n",
       " 'SOURCE Truist Financial Corporation']"
      ]
     },
     "execution_count": 265,
     "metadata": {},
     "output_type": "execute_result"
    }
   ],
   "source": [
    "stories[1]"
   ]
  },
  {
   "cell_type": "code",
   "execution_count": 267,
   "metadata": {},
   "outputs": [],
   "source": [
    "!mkdir stories\n",
    "for i ,c in enumerate(headline):\n",
    "    with open(\"stories/\" + c + \".txt\",'wb')as file:\n",
    "        pickle.dump(stories[i], file)"
   ]
  },
  {
   "cell_type": "code",
   "execution_count": 268,
   "metadata": {},
   "outputs": [],
   "source": [
    "data={}\n",
    "for i,c in enumerate(headline):\n",
    "    with(open(\"stories/\" + c + \".txt\",\"rb\")) as file:\n",
    "        data[c]=pickle.load(file)"
   ]
  },
  {
   "cell_type": "code",
   "execution_count": 269,
   "metadata": {},
   "outputs": [
    {
     "data": {
      "text/plain": [
       "dict_keys(['\\nTruist Adapts Branch Banking Approach to Care for Clients and Teammates', \"\\nTruist commits $250,000 to Atlanta Braves' Relief Fund\", '\\nTruist announces COVID-19 relief measures for communities, clients and teammates', '\\nTruist Lowers Prime Rate', '\\nSimon Property Group Announces Amended and Extended $6.0 Billion Revolving Credit Facility and Term Loan', '\\nTruist Foundation Awards $775,000 Grant to Junior Achievement of Central Maryland', '\\nTruist to Donate $225,000 for Disaster Relief in Middle Tennessee', '\\nSuburban Propane Partners, L.P. Announces Refinancing of Revolving Credit Facility', '\\nInvoca Appoints Michael DiFilippo as Chief Financial Officer', '\\nTruist Updates Timing of First-Quarter 2020 Earnings Conference Call', '\\nTruist Foundation Launches to Inspire and Build Better Lives and Communities', '\\nTruist Donates $1 Million to National Museum of African American History and Culture', '\\nHome Renovations on the Rise: More Projects, Bigger Budgets in 2020', '\\nTruist to Present at the Raymond James Institutional Investors Conference', '\\nTruist to Speak at the RBC Capital Markets Global Financial Institutions Conference', '\\nAllison Dukes to join Invesco as Deputy Chief Financial Officer; Loren Starr to become Vice Chair on Aug. 1 and retire in March 2021', '\\nTruist to Speak at the Credit Suisse Financial Services Forum', '\\nThe 40-Year-Old Millennial: Focused on Debt Repayment, Travel and Retirement', '\\nTruist Announces Redemption of Series K Depositary Shares', '\\nDiverse Cyclists to Participate in 7th Annual Tour Latino', '\\nTruist riporta i risultati del quarto trimestre 2019', '\\nNational Development Council Announces $250,000 Grant for Kings Theatre and Flatbush Avenue Small Business Loan Fund', '\\nTruist maakt resultaten over vierde kwartaal 2019 bekend', '\\nTruist meldet Ergebnisse für das vierte Quartal 2019', '\\nTruist publie ses résultats du quatrième trimestre de 2019', '\\nTruist Reports Fourth Quarter 2019 Results', '\\nTruist Declares Quarterly Stock Dividends', '\\nBB&T and SunTrust Now Truist Receive Perfect Scores of 100 on the 2020 Corporate Equality Index (CEI)', '\\nSunTrust now Truist, the Official Bank of the Miami Super Bowl Host Committee, Hosts Second Annual Confidence Classic Event', '\\nHunt Capital Partners and Pennrose Launch Second Phase of Affordable Housing Redevelopment in Maryland', '\\nPrecept Rebrands as McGriff Insurance Services', '\\nTruist Bank Announces Redemption of Fixed-to-Floating Rate Senior Bank Notes due 2021', '\\nTruist and the Atlanta Braves Announce Truist Park as New Name of SunTrust Park', '\\nMake Way for Truist Purple', '\\nAmerican Finance Trust Provides 2019 Transactions Update', '\\nTruist Announces Fourth-Quarter 2019 Earnings Conference Call Details', '\\nSunTrust Foundation Now Truist Foundation Awards $1 Million Grant to edX to Help Launch MicroBachelors™ Programs', '\\nFairstead Announces Preservation and Rehabilitation of 905 Units of Affordable Housing in Manhattan and Brooklyn', '\\nBroad Street Realty, Inc. Continues With Previously Announced Merger Transactions', '\\nMiami Super Bowl Host Committee Announces Five New Official Partners', '\\nTruist Bank Announces Redemption of Senior Bank Notes', '\\nTruist Charlotte headquarters building to be renamed Truist Center', '\\nCousins Properties Announces Agreement To Sell Charlotte Office Tower To Truist Financial', '\\nTruist Announces Community Banking Regional Presidents', '\\nTruist Announces 2020 Earnings Conference Calls', '\\nTruist to Present at the Goldman Sachs U.S. Financial Services Conference', '\\nBB&T and SunTrust complete merger of equals to become Truist', '\\nOld Dominion Freight Line Set to Join S&P 500; Cabot Microelectronics to Join S&P MidCap 400; Ready Capital and Industrial Logistics Properties Trust to Join S&P SmallCap 600', '\\nBB&T and SunTrust receive regulatory approvals for merger of equals to form Truist', '\\nSunTrust Declares Quarterly Dividend', '\\nBB&T rapporteert inkomsten van $735 miljoen of $0,95 per verwaterd aandeel', '\\nBB&T dichiara utili per 735 milioni di dollari, ovvero 0,95 dollari per azione diluita', '\\nBB&T gibt Unternehmensgewinn in Höhe von 735 Millionen US-Dollar bekannt; 0,95 US-Dollar pro verwässerter Stammaktie', '\\nBB&T déclare un bénéfice de 735 millions de dollars, soit 0,95 dollar par action diluée', '\\nSunTrust Reports Third Quarter 2019 Results', '\\nBB&T reports earnings of $735 million, or $0.95 per diluted share', '\\nLinnie Haynesworth appointed to SunTrust Board of Directors'])"
      ]
     },
     "execution_count": 269,
     "metadata": {},
     "output_type": "execute_result"
    }
   ],
   "source": [
    "data.keys()"
   ]
  },
  {
   "cell_type": "code",
   "execution_count": 270,
   "metadata": {},
   "outputs": [
    {
     "data": {
      "text/plain": [
       "['CHARLOTTE, N.C., March 19, 2020 /PRNewswire/ --\\xa0Truist Financial Corporation (NYSE: TFC) today announced that, beginning Saturday, March 21, it will implement several changes to its branch banking services to continue to serve clients in this difficult time while ensuring the health and well-being of its teammates and communities. For most locations, this includes continued access through drive-thru lanes and in-branch consultations by appointment only.',\n",
       " 'The combination of the heritage BB&T now Truist and SunTrust now Truist branch networks provides clients with access to more than 2,800 branches and more than 5,000 ATMs. As part of one of the most-accessible branch networks within Truist markets, about 85% of those branches offer a convenient drive-thru lane option for clients.',\n",
       " 'Some branches without drive-thru lanes that serve a critical community need will remain open, but with regular enhanced cleaning and sanitization protocols. Branches that offer in-branch consultations will incorporate controlled access protocols for lobbies to continue to serve clients in a safe and secure manner. As part of this initiative, some branches will temporarily close and those teammates will be redeployed to nearby open branches. More specific details on these locations will be provided soon on the Truist Coronavirus Information website.',\n",
       " '\"More and more, our clients are choosing to conduct their banking business through our drive-thrus, ATMs, contact centers and digital banking options during this challenging and uncertain situation, so this decision was a natural next step,\" said Brant Standridge, Head of Truist Retail Community Banking. \"From the early stages of the crisis, we have been deliberate and thoughtful as we weighed all options to balance the critical role we play for clients while also helping ensure the safety of our teammates and communities.\"',\n",
       " 'Truist has already implemented several preventative measures in all branches and office locations including an increased focus on disinfecting common surfaces such ATMs, teller line areas, door handles and other high-touch areas.\\xa0',\n",
       " 'Truist clients may continue to use convenient banking options including telephone banking; mobile and online services; and ATMs. These convenient options allow clients to stay connected to their account, check balances, view and search transactions, pay bills, transfer funds and deposit checks virtually whenever they choose.\\xa0',\n",
       " 'Truist Cares On Tuesday, Truist announced a comprehensive COVID-19 relief program, Truist Cares, for its communities, teammates and clients. In addition to a $25 million philanthropic pledge to support basic needs, medical supplies and financial hardship relief, the bank announced several client relief measures, including:',\n",
       " 'For the latest on how Truist is supporting its clients, communities and teammates, please visit https://www.truist.com/coronavirus-information.',\n",
       " 'About Truist Truist Financial Corporation is a purpose-driven financial services company committed to inspire and build better lives and communities. With 275 years of combined BB&T and SunTrust history, Truist serves approximately 10 million households with leading market share in many high-growth markets in the country. The company offers a wide range of services including retail, small business and commercial banking; asset management; capital markets; commercial real estate; corporate and institutional banking; insurance; mortgage; payments; specialized lending and wealth management. Headquartered in Charlotte, North Carolina, Truist is the sixth-largest commercial bank in the U.S. with total assets of $473 billion as of December 31, 2019. Truist Bank, Member FDIC. Learn more at Truist.com.',\n",
       " 'SOURCE Truist Financial Corporation']"
      ]
     },
     "execution_count": 270,
     "metadata": {},
     "output_type": "execute_result"
    }
   ],
   "source": [
    "data['\\nTruist Adapts Branch Banking Approach to Care for Clients and Teammates']"
   ]
  },
  {
   "cell_type": "code",
   "execution_count": 222,
   "metadata": {},
   "outputs": [],
   "source": [
    "data={'DateTime':DateTime,\n",
    "      'Headline':headline,\n",
    "      'Summary':summary,\n",
    "     'Weblink':webpage,\n",
    "      'WholeStory':whole\n",
    "     }"
   ]
  },
  {
   "cell_type": "code",
   "execution_count": 223,
   "metadata": {},
   "outputs": [],
   "source": [
    "df=pd.DataFrame(data,columns=['DateTime','Headline','Summary','Weblink','Whole'])"
   ]
  },
  {
   "cell_type": "code",
   "execution_count": 224,
   "metadata": {},
   "outputs": [
    {
     "data": {
      "text/html": [
       "<div>\n",
       "<style scoped>\n",
       "    .dataframe tbody tr th:only-of-type {\n",
       "        vertical-align: middle;\n",
       "    }\n",
       "\n",
       "    .dataframe tbody tr th {\n",
       "        vertical-align: top;\n",
       "    }\n",
       "\n",
       "    .dataframe thead th {\n",
       "        text-align: right;\n",
       "    }\n",
       "</style>\n",
       "<table border=\"1\" class=\"dataframe\">\n",
       "  <thead>\n",
       "    <tr style=\"text-align: right;\">\n",
       "      <th></th>\n",
       "      <th>DateTime</th>\n",
       "      <th>Headline</th>\n",
       "      <th>Summary</th>\n",
       "      <th>Weblink</th>\n",
       "      <th>Whole</th>\n",
       "    </tr>\n",
       "  </thead>\n",
       "  <tbody>\n",
       "    <tr>\n",
       "      <th>0</th>\n",
       "      <td>Mar 19, 2020, 12:54 ET</td>\n",
       "      <td>\\nTruist Adapts Branch Banking Approach to Car...</td>\n",
       "      <td>only.\\nThe combination of the heritage BB&amp;T no...</td>\n",
       "      <td>https://www.prnewswire.com/news-releases/truis...</td>\n",
       "      <td>NaN</td>\n",
       "    </tr>\n",
       "    <tr>\n",
       "      <th>1</th>\n",
       "      <td>Mar 19, 2020, 12:54 ET</td>\n",
       "      <td>\\nTruist Adapts Branch Banking Approach to Car...</td>\n",
       "      <td>only.\\nThe combination of the heritage BB&amp;T no...</td>\n",
       "      <td>https://www.prnewswire.com/news-releases/truis...</td>\n",
       "      <td>NaN</td>\n",
       "    </tr>\n",
       "    <tr>\n",
       "      <th>2</th>\n",
       "      <td>Mar 19, 2020, 12:54 ET</td>\n",
       "      <td>\\nTruist Adapts Branch Banking Approach to Car...</td>\n",
       "      <td>only.\\nThe combination of the heritage BB&amp;T no...</td>\n",
       "      <td>https://www.prnewswire.com/news-releases/truis...</td>\n",
       "      <td>NaN</td>\n",
       "    </tr>\n",
       "    <tr>\n",
       "      <th>3</th>\n",
       "      <td>Mar 18, 2020, 17:08 ET</td>\n",
       "      <td>\\nTruist commits $250,000 to Atlanta Braves' R...</td>\n",
       "      <td>www.braves.com/truistpark.\\nAbout Truist\\nTrui...</td>\n",
       "      <td>https://www.prnewswire.com/news-releases/truis...</td>\n",
       "      <td>NaN</td>\n",
       "    </tr>\n",
       "    <tr>\n",
       "      <th>4</th>\n",
       "      <td>Mar 17, 2020, 08:00 ET</td>\n",
       "      <td>\\nTruist announces COVID-19 relief measures fo...</td>\n",
       "      <td>Truist.com.\\nAbout TruistTruist Financial Corp...</td>\n",
       "      <td>https://www.prnewswire.com/news-releases/truis...</td>\n",
       "      <td>NaN</td>\n",
       "    </tr>\n",
       "  </tbody>\n",
       "</table>\n",
       "</div>"
      ],
      "text/plain": [
       "                 DateTime                                           Headline  \\\n",
       "0  Mar 19, 2020, 12:54 ET  \\nTruist Adapts Branch Banking Approach to Car...   \n",
       "1  Mar 19, 2020, 12:54 ET  \\nTruist Adapts Branch Banking Approach to Car...   \n",
       "2  Mar 19, 2020, 12:54 ET  \\nTruist Adapts Branch Banking Approach to Car...   \n",
       "3  Mar 18, 2020, 17:08 ET  \\nTruist commits $250,000 to Atlanta Braves' R...   \n",
       "4  Mar 17, 2020, 08:00 ET  \\nTruist announces COVID-19 relief measures fo...   \n",
       "\n",
       "                                             Summary  \\\n",
       "0  only.\\nThe combination of the heritage BB&T no...   \n",
       "1  only.\\nThe combination of the heritage BB&T no...   \n",
       "2  only.\\nThe combination of the heritage BB&T no...   \n",
       "3  www.braves.com/truistpark.\\nAbout Truist\\nTrui...   \n",
       "4  Truist.com.\\nAbout TruistTruist Financial Corp...   \n",
       "\n",
       "                                             Weblink Whole  \n",
       "0  https://www.prnewswire.com/news-releases/truis...   NaN  \n",
       "1  https://www.prnewswire.com/news-releases/truis...   NaN  \n",
       "2  https://www.prnewswire.com/news-releases/truis...   NaN  \n",
       "3  https://www.prnewswire.com/news-releases/truis...   NaN  \n",
       "4  https://www.prnewswire.com/news-releases/truis...   NaN  "
      ]
     },
     "execution_count": 224,
     "metadata": {},
     "output_type": "execute_result"
    }
   ],
   "source": [
    "df.head()"
   ]
  },
  {
   "cell_type": "code",
   "execution_count": 250,
   "metadata": {},
   "outputs": [
    {
     "name": "stdout",
     "output_type": "stream",
     "text": [
      "Mar 19, 2020, 12:54 ET\n",
      "\n",
      "Truist Adapts Branch Banking Approach to Care for Clients and Teammates\n",
      "https://www.prnewswire.com/news-releases/truist-adapts-branch-banking-approach-to-care-for-clients-and-teammates-301026990.html\n",
      "only.\n",
      "The combination of the heritage BB&T now Truist and SunTrust now Truist branch networks provides clients with access to more than 2,800 branches and more than 5,000 ATMs. As part of one of the most-accessible branch networks within Truist markets, about 85% of those branches offer a convenient\n",
      "CHARLOTTE, N.C., March 19, 2020 /PRNewswire/ -- Truist Financial Corporation (NYSE: TFC) today announced that, beginning Saturday, March 21, it will implement several changes to its branch banking services to continue to serve clients in this difficult time while ensuring the health and well-being of its teammates and communities. For most locations, this includes continued access through drive-thru lanes and in-branch consultations by appointment only.\n",
      "The combination of the heritage BB&T now Truist and SunTrust now Truist branch networks provides clients with access to more than 2,800 branches and more than 5,000 ATMs. As part of one of the most-accessible branch networks within Truist markets, about 85% of those branches offer a convenient drive-thru lane option for clients.\n",
      "Some branches without drive-thru lanes that serve a critical community need will remain open, but with regular enhanced cleaning and sanitization protocols. Branches that offer in-branch consultations will incorporate controlled access protocols for lobbies to continue to serve clients in a safe and secure manner. As part of this initiative, some branches will temporarily close and those teammates will be redeployed to nearby open branches. More specific details on these locations will be provided soon on the Truist Coronavirus Information website.\n",
      "\"More and more, our clients are choosing to conduct their banking business through our drive-thrus, ATMs, contact centers and digital banking options during this challenging and uncertain situation, so this decision was a natural next step,\" said Brant Standridge, Head of Truist Retail Community Banking. \"From the early stages of the crisis, we have been deliberate and thoughtful as we weighed all options to balance the critical role we play for clients while also helping ensure the safety of our teammates and communities.\"\n",
      "Truist has already implemented several preventative measures in all branches and office locations including an increased focus on disinfecting common surfaces such ATMs, teller line areas, door handles and other high-touch areas. \n",
      "Truist clients may continue to use convenient banking options including telephone banking; mobile and online services; and ATMs. These convenient options allow clients to stay connected to their account, check balances, view and search transactions, pay bills, transfer funds and deposit checks virtually whenever they choose. \n",
      "Truist Cares On Tuesday, Truist announced a comprehensive COVID-19 relief program, Truist Cares, for its communities, teammates and clients. In addition to a $25 million philanthropic pledge to support basic needs, medical supplies and financial hardship relief, the bank announced several client relief measures, including:\n",
      "For the latest on how Truist is supporting its clients, communities and teammates, please visit https://www.truist.com/coronavirus-information.\n",
      "About Truist Truist Financial Corporation is a purpose-driven financial services company committed to inspire and build better lives and communities. With 275 years of combined BB&T and SunTrust history, Truist serves approximately 10 million households with leading market share in many high-growth markets in the country. The company offers a wide range of services including retail, small business and commercial banking; asset management; capital markets; commercial real estate; corporate and institutional banking; insurance; mortgage; payments; specialized lending and wealth management. Headquartered in Charlotte, North Carolina, Truist is the sixth-largest commercial bank in the U.S. with total assets of $473 billion as of December 31, 2019. Truist Bank, Member FDIC. Learn more at Truist.com.\n",
      "SOURCE Truist Financial Corporation\n",
      "\n"
     ]
    },
    {
     "ename": "ValueError",
     "evalue": "I/O operation on closed file.",
     "output_type": "error",
     "traceback": [
      "\u001b[0;31m---------------------------------------------------------------------------\u001b[0m",
      "\u001b[0;31mValueError\u001b[0m                                Traceback (most recent call last)",
      "\u001b[0;32m<ipython-input-250-2acbcd3fc2cf>\u001b[0m in \u001b[0;36m<module>\u001b[0;34m\u001b[0m\n\u001b[1;32m     18\u001b[0m \u001b[0;34m\u001b[0m\u001b[0m\n\u001b[1;32m     19\u001b[0m     \u001b[0mprint\u001b[0m\u001b[0;34m(\u001b[0m\u001b[0;34m)\u001b[0m\u001b[0;34m\u001b[0m\u001b[0;34m\u001b[0m\u001b[0m\n\u001b[0;32m---> 20\u001b[0;31m     \u001b[0mcsv_writer\u001b[0m\u001b[0;34m.\u001b[0m\u001b[0mwriterow\u001b[0m\u001b[0;34m(\u001b[0m\u001b[0;34m[\u001b[0m\u001b[0mDateTime\u001b[0m\u001b[0;34m,\u001b[0m\u001b[0mheadline\u001b[0m\u001b[0;34m,\u001b[0m \u001b[0msummary\u001b[0m\u001b[0;34m,\u001b[0m \u001b[0mwhole\u001b[0m\u001b[0;34m]\u001b[0m\u001b[0;34m)\u001b[0m\u001b[0;34m\u001b[0m\u001b[0;34m\u001b[0m\u001b[0m\n\u001b[0m\u001b[1;32m     21\u001b[0m \u001b[0;34m\u001b[0m\u001b[0m\n\u001b[1;32m     22\u001b[0m \u001b[0mcsv_file\u001b[0m\u001b[0;34m.\u001b[0m\u001b[0mclose\u001b[0m\u001b[0;34m(\u001b[0m\u001b[0;34m)\u001b[0m\u001b[0;34m\u001b[0m\u001b[0;34m\u001b[0m\u001b[0m\n",
      "\u001b[0;31mValueError\u001b[0m: I/O operation on closed file."
     ]
    }
   ],
   "source": [
    "for article in soup.find_all('div', {'class':[  \"col-sm-12 card\", \"col-sm-8 col-lg-9 pull-left card\"]}):\n",
    "    \n",
    "    DateTime=article.small.text\n",
    "    print(DateTime)\n",
    "    \n",
    "    headline=article.a.text\n",
    "    print(headline)\n",
    "    \n",
    "    webpage=str('https://www.prnewswire.com' + article.a['href'])\n",
    "    print(webpage)\n",
    "    \n",
    "    summary=article.p.text\n",
    "    print(summary)\n",
    "    \n",
    "    for tags in BeautifulSoup(requests.get(webpage).text,'lxml').find('section',class_='release-body container').find_all('p'):\n",
    "        whole=tags.text\n",
    "        print(whole)\n",
    "    \n",
    "    print()\n",
    "    csv_writer.writerow([DateTime,headline, summary, whole])\n",
    "\n",
    "csv_file.close()\n",
    "    "
   ]
  },
  {
   "cell_type": "code",
   "execution_count": 213,
   "metadata": {},
   "outputs": [],
   "source": [
    "# article=soup.find('div', class_ = \"col-sm-12 card\")\n",
    "# print(article.prettify())"
   ]
  },
  {
   "cell_type": "code",
   "execution_count": 215,
   "metadata": {},
   "outputs": [],
   "source": [
    "# weblink=str('https://www.prnewswire.com' + article.a['href'])\n",
    "# print(weblink)"
   ]
  },
  {
   "cell_type": "code",
   "execution_count": 184,
   "metadata": {},
   "outputs": [],
   "source": [
    "#source2=requests.get(weblink).text\n",
    "# soup2=BeautifulSoup(requests.get(weblink).text,'lxml')"
   ]
  },
  {
   "cell_type": "code",
   "execution_count": 210,
   "metadata": {},
   "outputs": [],
   "source": [
    "# print(soup2.prettify())\n",
    "\n",
    "# for tags in BeautifulSoup(requests.get(weblink).text,'lxml') \\\n",
    "#     .find('section',class_='release-body container').find_all('p'):\n",
    "#     print(tags.text)"
   ]
  },
  {
   "cell_type": "code",
   "execution_count": 208,
   "metadata": {},
   "outputs": [],
   "source": [
    "# article2.p.text"
   ]
  },
  {
   "cell_type": "code",
   "execution_count": 206,
   "metadata": {},
   "outputs": [],
   "source": [
    "# p_tags=article2.find_all('p')\n",
    "# print(p_tags.text)"
   ]
  },
  {
   "cell_type": "code",
   "execution_count": 207,
   "metadata": {},
   "outputs": [],
   "source": [
    "# for tags in article2.find_all('p'):\n",
    "#     print(tags.text)"
   ]
  },
  {
   "cell_type": "code",
   "execution_count": 103,
   "metadata": {},
   "outputs": [],
   "source": [
    "# headline=article.a.text\n",
    "# print(headline)"
   ]
  },
  {
   "cell_type": "code",
   "execution_count": 56,
   "metadata": {},
   "outputs": [
    {
     "name": "stdout",
     "output_type": "stream",
     "text": [
      "Mar 19, 2020, 12:54 ET\n"
     ]
    }
   ],
   "source": [
    "# DateTime=article.small.text\n",
    "# print(DateTime)"
   ]
  },
  {
   "cell_type": "code",
   "execution_count": 32,
   "metadata": {},
   "outputs": [],
   "source": [
    "# summary=article.p.text\n",
    "# print(summary)"
   ]
  },
  {
   "cell_type": "code",
   "execution_count": 79,
   "metadata": {},
   "outputs": [],
   "source": [
    "# create a empty list of variable\n",
    "# DateTime=[]\n",
    "# headline=[]\n",
    "# summary =[]"
   ]
  },
  {
   "cell_type": "code",
   "execution_count": 95,
   "metadata": {},
   "outputs": [],
   "source": [
    "#dfining the open code scraping function\n",
    "# def open_scraping(webpage,page_number):\n",
    "#     next_page=webpage+str(page_number)\n",
    "#     source=requests.get(str(next_page)).text\n",
    "#     soup=BeautifulSoup(source, 'html.parser')    \n",
    "#     for article in soup.find_all('div', class_ = \"col-sm-12 card\"):\n",
    "    \n",
    "#         DateTime.append(article.small.text)\n",
    "#         print(DateTime)\n",
    "    \n",
    "#         headline.append(article.a.text)\n",
    "#         print(headline)\n",
    "    \n",
    "#         summary.append(article.p.text)\n",
    "#         print(summary)\n",
    "    \n",
    "#         print()\n",
    "#     if page_number <=3:\n",
    "#         page_number=page_number +1\n",
    "#         open_scraping(webpage,page_number)\n",
    "# open_scraping('https://www.prnewswire.com/search/news/?keyword=Truist&pagesize=25&page=',0)\n",
    "        "
   ]
  },
  {
   "cell_type": "code",
   "execution_count": 86,
   "metadata": {},
   "outputs": [],
   "source": [
    "# DateTime"
   ]
  },
  {
   "cell_type": "code",
   "execution_count": 88,
   "metadata": {},
   "outputs": [],
   "source": [
    "# data={'DateTime':DateTime,\n",
    "      'Headline':headline,\n",
    "      'Summary':summary}"
   ]
  },
  {
   "cell_type": "code",
   "execution_count": 91,
   "metadata": {},
   "outputs": [],
   "source": [
    "# import pandas as pd\n",
    "df=pd.DataFrame(data,columns=['DateTime','Headline','Summary'])"
   ]
  }
 ],
 "metadata": {
  "kernelspec": {
   "display_name": "Python 3",
   "language": "python",
   "name": "python3"
  },
  "language_info": {
   "codemirror_mode": {
    "name": "ipython",
    "version": 3
   },
   "file_extension": ".py",
   "mimetype": "text/x-python",
   "name": "python",
   "nbconvert_exporter": "python",
   "pygments_lexer": "ipython3",
   "version": "3.7.6"
  }
 },
 "nbformat": 4,
 "nbformat_minor": 4
}
